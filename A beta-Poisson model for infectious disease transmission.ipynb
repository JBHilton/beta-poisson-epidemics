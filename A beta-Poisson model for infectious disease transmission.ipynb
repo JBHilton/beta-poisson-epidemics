{
 "cells": [
  {
   "cell_type": "markdown",
   "metadata": {},
   "source": [
    "**A beta-Poisson model for infectious disease transmission**\n",
    "\n",
    "This notebook is designed to accompany the upcoming paper of the same title by Joe Hilton and Ian Hall. In the paper, we introduce a branching process model for infectious disease transmission whose offspring distribution is a beta-Poisson mixture distribution. We compare this model's performance as a description of transmission by fitting it to several examples of transmission tree data and comparing these fits to those obtained by the Poisson, geometric, negative binomial, and zero-inflated Poisson (ZIP) models. The code in this notebook includes functions which perform standard probability and likelihood calculations for this model, estimate maximum likelihood parameters, and estimate confidence intervals for these parameters using bootstrapping. We provide a rough outline of the model here, with full derivations left to the paper."
   ]
  },
  {
   "cell_type": "code",
   "execution_count": 1,
   "metadata": {},
   "outputs": [],
   "source": [
    "from __future__ import print_function\n",
    "import math\n",
    "import numpy as np\n",
    "import random\n",
    "import scipy as sp\n",
    "from scipy import special as spsp\n",
    "from scipy import sparse as sparse\n",
    "from scipy import stats as stats\n",
    "from scipy import optimize as opt\n",
    "from scipy import interpolate as interpolate\n",
    "import matplotlib.pyplot as plt\n",
    "import matplotlib.patches as patches\n",
    "import matplotlib.path as path\n",
    "import matplotlib.animation as animation\n",
    "from ipywidgets import interact, interactive, fixed, interact_manual\n",
    "import ipywidgets as widgets\n",
    "import mpmath\n",
    "import matplotlib as mpl\n",
    "import matplotlib.cm as cm\n",
    "import time\n",
    "cmap = cm.hot"
   ]
  },
  {
   "cell_type": "markdown",
   "metadata": {},
   "source": [
    "**Model description**\n",
    "\n",
    "The beta-Poisson model describes the person-to-person spread of a pathogen in a population where contact behaviour is homogeneous but transmission behaviour varies from person to person. During their infectious period an infectious individual makes $n$ contacts, drawn from a Poisson distribution with mean $N$. For each case a transmission probability $p$ is chosen from a beta distribution with parameters $(\\alpha_1,\\alpha_2)$, so that the number of subsequent cases is drawn from a beta-binomial distribution with these parameters and $n$ trials. In our paper we demonstrate that the mean of the resulting distribution is given by\n",
    "\\begin{equation}\n",
    "\\lambda=N\\frac{\\alpha_1}{\\alpha_1+\\alpha_2},\n",
    "\\end{equation}\n",
    "and that if we make the substitution $\\Phi=\\frac{\\alpha_1+\\alpha_2}{N}$ the probability mass function can be expressed as:\n",
    "\\begin{equation}\n",
    "\\begin{aligned}\n",
    "P(x;\\lambda,\\Phi,N)=\\frac{N^x}{\\Gamma(x+1)}\\frac{\\Gamma(x+\\Phi \\lambda)\\Gamma(\\Phi N)}{\\Gamma(\\Phi \\lambda)\\Gamma(x+\\Phi N)}M(x+\\Phi \\lambda,x+\\Phi N,-N).\n",
    "\\end{aligned}\n",
    "\\end{equation}\n",
    "\n",
    "We demonstrate in the paper that in the limit $N\\to\\infty$, the beta-Poisson distribution approximates a beta-gamma mixture, i.e. a negative binomial. We will use a slightly unusual parameterisation . The negative binomial with mean $\\lambda$ is overdispersed, so that its variance can be expressed as $\\lambda(1+\\theta)$ for some $\\theta>0$. We parameterise the negative binomial in terms of $\\lambda$ and $\\theta$ so that the pmf is given by\n",
    "\\begin{align}\n",
    "P(x;\\lambda,\\theta)=\\frac{\\Gamma(x+\\frac{\\lambda}{\\theta})}{\\Gamma(x+1)\\Gamma({\\frac{\\lambda}{\\theta}})}\\Bigg(\\frac{1}{1+\\theta}\\Bigg)^{\\frac{\\lambda}{\\theta}}\\Bigg(\\frac{\\theta}{\\theta+1}\\Bigg)^x.\n",
    "\\end{align}\n",
    "The negative binomial we obtain in the limit $N\\to\\infty$ has overdispersion $\\theta=\\Phi^{-1}$."
   ]
  },
  {
   "cell_type": "code",
   "execution_count": 2,
   "metadata": {},
   "outputs": [],
   "source": [
    "def beta_poisson_pmf(x,lmbd,Phi,N):\n",
    "    if type(x)==int:\n",
    "        P=spsp.hyp1f1(x+Phi*lmbd,x+Phi*N,-N)\n",
    "        for n in range(1,x+1): # This loop gives us the N^x/gamma(x+1 term)\n",
    "            P=(N/n)*P\n",
    "        for m in range(x): # This loop gives us the term with the two gamma functions in numerator and denominator\n",
    "            P=((m+Phi*lmbd)/(m+Phi*N))*P\n",
    "    else:\n",
    "        P=[]\n",
    "        for i in range(0,len(x)):\n",
    "            p=spsp.hyp1f1(x[i]+Phi*lmbd,x[i]+Phi*N,-N)\n",
    "            for n in range(1,x[i]+1): # This loop gives us the N^x/gamma(x+1 term)\n",
    "                p=(N/n)*p\n",
    "            for m in range(x[i]): # This loop gives us the term with the two gamma functions in numerator and denominator\n",
    "                p=((m+Phi*lmbd)/(m+Phi*N))*p\n",
    "            P=P+[p]\n",
    "    return P"
   ]
  },
  {
   "cell_type": "code",
   "execution_count": 3,
   "metadata": {},
   "outputs": [],
   "source": [
    "class beta_poisson_gen:\n",
    "    \n",
    "#    def __init__(self, lmbd, Phi, N):\n",
    "#        self.lmbd = lmbd\n",
    "#        self.Phi = Phi\n",
    "#        self.N = N\n",
    "    \n",
    "    def pmf(self, x, lmbd, Phi, N):\n",
    "        return np.exp(self.logpmf(x,lmbd,Phi,N))\n",
    "    \n",
    "    def logpmf(self,x,lmbd,Phi,N):\n",
    "        if type(x)==int:\n",
    "            log_p = (x*np.log(N) -\n",
    "                     np.real(spsp.loggamma(x+1)) +\n",
    "                     np.real(spsp.loggamma(Phi*N)) +\n",
    "                     np.real(spsp.loggamma(x+Phi*lmbd)) -\n",
    "                     np.real(spsp.loggamma(x+Phi*N)) -\n",
    "                     np.real(spsp.loggamma(Phi*lmbd)))\n",
    "            if x+phi*N<50:\n",
    "                log_p += np.log(spsp.hyp1f1(x+Phi*lmbd,x+Phi*N,-N))\n",
    "            else:\n",
    "                log_p += np.log(float(mpmath.hyp1f1(x+Phi*lmbd,x+Phi*N,-N)))\n",
    "        else:\n",
    "            log_p = []\n",
    "            for i in range(0,len(x)):\n",
    "                log_pp = (x[i]*np.log(N)-np.real(spsp.loggamma(x[i]+1)) +\n",
    "                    np.real(spsp.loggamma(Phi*N)) +\n",
    "                    np.real(spsp.loggamma(x[i]+Phi*lmbd)) -\n",
    "                    np.real(spsp.loggamma(x[i]+Phi*N)) -\n",
    "                    np.real(spsp.loggamma(Phi*lmbd)))\n",
    "                if x[i]+Phi*N<50:\n",
    "                    log_pp += np.log(spsp.hyp1f1(x[i]+Phi*lmbd,x[i]+Phi*N,-N))\n",
    "                else:\n",
    "                    log_pp += np.log(float(mpmath.hyp1f1(x[i]+Phi*lmbd,x[i]+Phi*N,-N)))\n",
    "                log_p = log_p + [log_pp]\n",
    "        return log_p\n",
    "    \n",
    "    def pgf(self, s, lmbd, Phi, N):\n",
    "        if np.size(np.asarray(s))==1:\n",
    "            G=spsp.hyp1f1(lmbd*Phi,N*Phi,N*(s-1));\n",
    "        else:\n",
    "            G=[]\n",
    "            for i in range(0,np.size(np.asarray(s))):\n",
    "                G=G+[spsp.hyp1f1(lmbd*Phi,N*phi,N*(s[i]-1))]\n",
    "        return G\n",
    "\n",
    "    def extinction_prob(self, lmbd, phi, N ):\n",
    "        if lmbd<=1:\n",
    "            return 1\n",
    "        else:\n",
    "            def f(s):\n",
    "                return beta_poisson_pgf(s,lmbd,phi,N)-s\n",
    "            q=opt.brentq(\n",
    "                f, 0, 1-1e-4);\n",
    "            return q\n",
    "\n",
    "beta_poisson = beta_poisson_gen()"
   ]
  },
  {
   "cell_type": "code",
   "execution_count": 4,
   "metadata": {},
   "outputs": [
    {
     "name": "stdout",
     "output_type": "stream",
     "text": [
      "[0.11547614919829788, 0.09421813032224745, 0.08866313316657161, 0.07987675522526165]\n",
      "[0.11547615 0.09421813 0.08866313 0.07987676]\n"
     ]
    }
   ],
   "source": [
    "print(beta_poisson_pmf([1,2,3,4],2,0.1,5))\n",
    "print(beta_poisson.pmf([1,2,3,4],2,0.1,5))"
   ]
  },
  {
   "cell_type": "markdown",
   "metadata": {},
   "source": [
    "The next code block generates a widget with which you can plot the pmf of the beta-Poisson distribution and use a set of sliders to control the values of $\\lambda$, $\\Phi$, and $N$. You should find that when $\\lambda$ is close to $N$ or $\\Phi$ is large the distribution is more symmetrical, and that decreasing either $\\lambda$ or $\\Phi$ skews the distribution towards zero."
   ]
  },
  {
   "cell_type": "code",
   "execution_count": 5,
   "metadata": {},
   "outputs": [
    {
     "data": {
      "application/vnd.jupyter.widget-view+json": {
       "model_id": "5dc70a78b7f3430a9e861a26be531727",
       "version_major": 2,
       "version_minor": 0
      },
      "text/plain": [
       "interactive(children=(FloatSlider(value=1.0, description='lmbd', max=5.0, min=0.05, step=0.05), FloatSlider(va…"
      ]
     },
     "metadata": {},
     "output_type": "display_data"
    }
   ],
   "source": [
    "%matplotlib inline\n",
    "from ipywidgets import interactive\n",
    "import matplotlib.pyplot as plt\n",
    "import numpy as np\n",
    "\n",
    "def f(lmbd,Phi,N):\n",
    "    fig, ax=plt.subplots(figsize=(5,5))\n",
    "    plt.figure(1)\n",
    "    x = list(range(int(np.ceil(lmbd+4*np.sqrt(lmbd*(1+(N-lmbd)/(Phi*N+1)))))))\n",
    "    P=beta_poisson_pmf(x,lmbd,Phi,N)\n",
    "    plt.bar(x,P)\n",
    "    plt.show()\n",
    "    \n",
    "lmbd_widget=widgets.FloatSlider(min=0.05,max=5,step=0.05,value=1)\n",
    "Phi_widget=widgets.FloatSlider(min=0.01,max=2,step=0.01,value=0.2)\n",
    "N_widget=widgets.FloatSlider(min=0.1,max=40,step=0.1,value=5)\n",
    "def update_lmbd_range(*args):\n",
    "    lmbd_widget.max=N_widget.value\n",
    "N_widget.observe(update_lmbd_range,'value')\n",
    "interactive_plot=interactive(f,lmbd=lmbd_widget,Phi=Phi_widget,N=N_widget)\n",
    "ourput=interactive_plot.children[-1]\n",
    "interactive_plot"
   ]
  },
  {
   "cell_type": "markdown",
   "metadata": {},
   "source": [
    "**Likelihood calculations**\n",
    "\n",
    "Suppose that we have a vector $(x_1,...,x_K)$ of secondary case data, i.e. $x_i$ is the number of cases which have case $i$ as their infector (note that in this work we do not address the problem of how to identify these infectors and so generate a dataset). The log-likelihood of parameters $(\\lambda,\\Phi,N)$ given this data is given by\n",
    "\\begin{align}\n",
    "\\log\\mathcal{L}=\\sum\\limits_{i=1}^Kx_i\\log N-\\log\\Gamma(x_i+1)+\\log\\Gamma(\\Phi N)+\\log\\Gamma(x_i+\\Phi \\lambda)-\\log\\Gamma(x_i+\\Phi N)-\\log\\Gamma(\\Phi \\lambda)+\\log M(x_i+\\Phi \\lambda,x_i+\\Phi N,-N).\n",
    "\\end{align}\n",
    "For large values of $N$ this formula is numerically unstable, and in this region we will use the log likelihood function of the negative binomial distribution with $\\theta=\\Phi^{-1}$. One can justify the choice of $N=1,000$ as a cutoff by calculating the beta-Poisson and negative binomial probability mass functions up to a suitable maximum (x=250 seems a generous upper limit for secondary case data) and for a range of $\\lambda$ and $\\Phi$ values. In an emerging infection context we are interested in $\\lambda$ up to about $2$ and, since $\\Phi$ is inversely proportional to the level of overdisperion in the data, considering $\\Phi$ values below ten is usually sufficient for fitting overdispersed datasets.\n",
    "\n",
    "In the next code block, `beta_poisson_loglh` calculates the log likelihood of the beta-Poisson parameters $(\\lambda,\\Phi,N)$ given a set of count data, and `neg_bin_bp_loglh` the log likelihood of the negative binomial parameters $(\\lambda,\\Phi^{-1})$, or equivalently the beta-Poisson parameters $(\\lambda,\\Phi,\\infty)$. For the purposes of this notebook it is useful for us to define separate functions calculating the negative binomial log likelihood in the $N\\to\\infty$ extreme of the beta-Poisson model, and as the likelihood function of the negative binomial model in its own right - hence the \"`bp`\" in the name of the function in the box immediately below."
   ]
  },
  {
   "cell_type": "code",
   "execution_count": 6,
   "metadata": {},
   "outputs": [],
   "source": [
    "def beta_poisson_loglh(data,lmbd,phi,N):\n",
    "    return sum(beta_poisson.logpmf(data,lmbd,phi,N))\n",
    "\n",
    "def neg_bin_bp_loglh(data,lmbd,phi):\n",
    "    return sum(stats.nbinom.logpmf(data,lmbd*phi,phi/(phi+1)))"
   ]
  },
  {
   "cell_type": "markdown",
   "metadata": {},
   "source": [
    "Given a vector of count data, we can calculate the maximum likelihood parameters numerically by finding the minimum of the likelihood function. This is a two-dimensional problem, since the MLE of $\\lambda$ is just the sample mean. The maximum likelihood estimation is carried out in the function `get_phi_and_N_mles`. Because $N$ can theoretically range up to infinity but its MLE is bounded below by that of $\\lambda$, we optimise over $\\nu=\\frac{1}{N}$ rather than $N$. For values of $\\nu$ less than $10^{-3}$ (i.e. values of $N$ greater than $1,000$) the optimiser takes `neg_bin_bp_loglh` as the function to optimise over rather than `beta_poisson_loglh`."
   ]
  },
  {
   "cell_type": "code",
   "execution_count": 7,
   "metadata": {},
   "outputs": [],
   "source": [
    "def get_phi_and_N_mles(data,phi_0,N_0):\n",
    "    def f(params):\n",
    "        lmbd=np.mean(data)\n",
    "        phi=params[0]\n",
    "        if params[1]>0.1e-3:\n",
    "            N=1/params[1]\n",
    "            return -beta_poisson_loglh(data,lmbd,phi,N)\n",
    "        else:\n",
    "            return -neg_bin_bp_loglh(data,lmbd,phi)\n",
    "    mle=sp.optimize.minimize(f,[phi_0,N_0],bounds=((1e-6,50),(0,1/np.mean(data))))\n",
    "    if mle.x[1]<0:\n",
    "        mle.x[1]=0\n",
    "    return mle.x[0],mle.x[1]"
   ]
  },
  {
   "cell_type": "markdown",
   "metadata": {},
   "source": [
    "In the supplementary material to the paper we show that the pgf of a beta-Poisson distributed random variable $X$ is\n",
    "\\begin{equation}\n",
    "    G_X(s)=M(\\lambda\\Phi,N\\Phi,N(s-1)).\n",
    "\\end{equation}\n",
    "This is calculated using the function `beta_poisson_pgf`. From standard branching process theory, the extinction probability of a beta-Poisson epidemic is the solution to the equation\n",
    "\\begin{equation}\n",
    "    q=G(q),\n",
    "\\end{equation}\n",
    "and can be calculated using the function `beta_poisson_extinction_prob`.\n",
    "\n",
    "These functions are not used to calculate any of the results presented in our paper, but are included here for completeness."
   ]
  },
  {
   "cell_type": "markdown",
   "metadata": {},
   "source": [
    "The functions in the following block carry out the equivalent calculations (log likelihood, maximum likelihood estimates, pgf, and extinction probability) for the Poisson, geometric, negative binomial, and ZIP calculations.\n",
    "\n",
    "\n",
    "The function `nbinom.pmf` in the `scipy.stats` package uses a parameterisation in terms of parameters $n$ and $p$. Under this parameterisation the mean and variance of the distribution are respectively given by $(1-p)n/p$ and $(1-p)n/p^2$. After some rearrangement, one can show that $n=\\lambda/\\theta$ and $p=1/(\\theta+1)$, so that to calculate negative binomial probabilities (and likelihoods) in our $(\\lambda,\\theta)$ parameterisation we use `stats.nbinom.pmf(x,lmbd/theta,1/(theta+1))`."
   ]
  },
  {
   "cell_type": "code",
   "execution_count": 8,
   "metadata": {},
   "outputs": [],
   "source": [
    "def poisson_loglh(data,lmbd):\n",
    "    return sum(stats.poisson.logpmf(data,lmbd))\n",
    "        \n",
    "def geo_loglh(data,lmbd):\n",
    "    return sum(stats.geom.logpmf(data,1/(lmbd+1),-1))\n",
    "\n",
    "def neg_bin_loglh(data,lmbd,theta):\n",
    "    return sum(stats.nbinom.logpmf(data,lmbd/theta,1/(theta+1)))\n",
    "\n",
    "def get_theta_mle(data,theta_0):\n",
    "    def f(theta):\n",
    "        lmbd=np.mean(data)\n",
    "        return -neg_bin_loglh(data,lmbd,theta)\n",
    "    mle=sp.optimize.minimize(f,[theta_0],bounds=((1e-6,50),))\n",
    "    return mle.x[0]\n",
    "\n",
    "def zip_pmf(x,lmbd,sigma):\n",
    "    if type(x)==int:\n",
    "        return sigma*(x==0)+(1-sigma)*stats.poisson.pmf(x,lmbd)\n",
    "    else:\n",
    "        return sigma*np.equal(x,np.zeros(len(x)))+(1-sigma)*stats.poisson.pmf(x,lmbd)\n",
    "\n",
    "def zip_loglh(data,lmbd,sigma):\n",
    "    llh=0\n",
    "    for x in data:\n",
    "        if x==0:\n",
    "            llh+=np.log(sigma+(1-sigma)*np.exp(-lmbd))\n",
    "        else:\n",
    "            llh+=np.log(1-sigma)+np.log(stats.poisson.pmf(x,lmbd))\n",
    "    return llh\n",
    "\n",
    "def get_zip_mles(data,lmbd_0,sigma_0):\n",
    "    def f(params):\n",
    "        lmbd=params[0]\n",
    "        sigma=params[1]\n",
    "        return -zip_loglh(data,lmbd,sigma)\n",
    "    mle=sp.optimize.minimize(f,[lmbd_0,sigma_0],bounds=((np.mean(data),50),(0,1-1e-6)))\n",
    "    return mle.x[0],mle.x[1]"
   ]
  },
  {
   "cell_type": "markdown",
   "metadata": {},
   "source": [
    "**Fits to transmission chain data**\n",
    "\n",
    "In our paper we study the fitting behaviour of the beta-Poisson model by fitting it (and our other models of interest) to eight transmission chain datasets. We estimate maximum likelihood parameters and calculate the Akaike Information Criterion (AIC) for each fitted model. In the next cell we define a class whose objects contain the parameter fits, log likelihoods, and AICs of each model for a given dataset."
   ]
  },
  {
   "cell_type": "code",
   "execution_count": 9,
   "metadata": {},
   "outputs": [],
   "source": [
    "class trans_chain_mles:\n",
    "    def __init__(self,\n",
    "                data):\n",
    "        \n",
    "        self.data = data\n",
    "        self.mean = np.mean(data)\n",
    "        self.var = np.var(data)\n",
    "        \n",
    "        theta_mle = get_theta_mle(data, self.mean)\n",
    "        \n",
    "        lmbd_mle, sigma_mle = get_zip_mles(data, self.mean, 0.5)\n",
    "        \n",
    "        phi_mle, Nu_mle=get_phi_and_N_mles(data, 1, 1/max(data))\n",
    "        \n",
    "        if Nu_mle>1e-3:\n",
    "            beta_poi_var = self.mean * (1 + (1 - self.mean*Nu_mle)/(phi_mle + Nu_mle))\n",
    "        else:\n",
    "            beta_poi_var = self.mean * (1 + 1/phi_mle)\n",
    "        \n",
    "        poisson_llh = poisson_loglh(data, self.mean)\n",
    "        geometric_llh = geo_loglh(data, self.mean)\n",
    "        neg_bin_llh = neg_bin_loglh(data, self.mean, theta_mle)\n",
    "        zip_llh = zip_loglh(data, lmbd_mle, sigma_mle)\n",
    "        \n",
    "        if Nu_mle>1e-3:\n",
    "            beta_poi_llh = beta_poisson_loglh(data, self.mean, phi_mle, 1/Nu_mle)\n",
    "        else:\n",
    "            beta_poi_llh = neg_bin_loglh(data, self.mean, theta_mle)\n",
    "        \n",
    "        self.poisson = {'lambda' : self.mean,\n",
    "                        'mean' : self.mean,\n",
    "                        'var' : self.mean,\n",
    "                        'llh' : poisson_llh,\n",
    "                        'AIC' : 2 - 2*poisson_llh}\n",
    "        \n",
    "        self.geometric = {'lambda' : self.mean,\n",
    "                          'mean' : self.mean,\n",
    "                          'var' : self.mean * (1+self.mean),\n",
    "                          'llh' : geometric_llh,\n",
    "                          'AIC' : 2 - 2*geometric_llh}\n",
    "        \n",
    "        self.neg_bin = {'lambda' : self.mean,\n",
    "                        'theta' : theta_mle,\n",
    "                        'mean' : self.mean,\n",
    "                        'var' : self.mean * (1+theta_mle),\n",
    "                        'llh' : neg_bin_llh,\n",
    "                        'AIC' : 4 - 2*neg_bin_llh}\n",
    "        \n",
    "        self.zip = {'lambda' : lmbd_mle,\n",
    "                    'sigma' : sigma_mle,\n",
    "                    'mean' : lmbd_mle * (1-sigma_mle),\n",
    "                    'var' : lmbd_mle * (1-sigma_mle) * (1+lmbd_mle*sigma_mle),\n",
    "                    'llh' : zip_llh,\n",
    "                    'AIC' : 4 - 2*zip_llh}\n",
    "        \n",
    "        self.beta_poi = {'lambda' : self.mean,\n",
    "                         'Phi' : phi_mle,\n",
    "                         'Nu' : Nu_mle,\n",
    "                         'mean' : self.mean,\n",
    "                         'var' : beta_poi_var,\n",
    "                         'llh' : beta_poi_llh,\n",
    "                         'AIC' : 6 - 2*beta_poi_llh}\n",
    "        \n",
    "        "
   ]
  },
  {
   "cell_type": "markdown",
   "metadata": {},
   "source": [
    "The next cell introduces a function which plots the empirical and fitted secondary case distributions."
   ]
  },
  {
   "cell_type": "code",
   "execution_count": 10,
   "metadata": {},
   "outputs": [],
   "source": [
    "def plot_chain_data_fits(fits, ax, title, fs=20):\n",
    "    \n",
    "    xVals = range(max(fits.data)+1)\n",
    "\n",
    "    counts, bins = np.histogram(fits.data, max(fits.data)+1)\n",
    "    dist = counts / len(fits.data)\n",
    "\n",
    "    ax.plot(np.where(dist>0)[0], dist[dist>0], 'x', markersize=20)\n",
    "\n",
    "    poi_line = stats.poisson.pmf(xVals, fits.poisson['lambda'])\n",
    "    ax.plot(xVals, poi_line, lw=3)\n",
    "\n",
    "    geom_line = stats.geom.pmf(xVals, 1/(fits.geometric['lambda']+1),-1)\n",
    "    ax.plot(xVals, geom_line, lw=3)\n",
    "\n",
    "    neg_bin_line = stats.nbinom.pmf(xVals,\n",
    "                                  fits.neg_bin['lambda']/fits.neg_bin['theta'],\n",
    "                                  1/(fits.neg_bin['theta']+1))\n",
    "    ax.plot(xVals, neg_bin_line, lw=3)\n",
    "\n",
    "    zip_line = zip_pmf(xVals, fits.zip['lambda'], fits.zip['sigma'])\n",
    "    ax.plot(xVals, zip_line, lw=3)\n",
    "\n",
    "    if fits.beta_poi['Nu']>1e-3:\n",
    "        beta_poi_line = beta_poisson.pmf(xVals,\n",
    "                                         fits.beta_poi['lambda'],\n",
    "                                         fits.beta_poi['Phi'],\n",
    "                                         1/fits.beta_poi['Nu'])\n",
    "        ax.plot(xVals, beta_poi_line, lw=3)\n",
    "    else:\n",
    "        beta_poi_line = neg_bin_line\n",
    "\n",
    "    ax.axis([-0.5, max(fits.data)+0.5, 0, 1])\n",
    "\n",
    "    ax.set_aspect((max(fits.data)+1))\n",
    "\n",
    "    ax.set_xlabel('Secondary cases', fontsize=fs)\n",
    "    ax.set_ylabel('Probability', fontsize=fs)\n",
    "    ax.set_title(title, fontsize=fs)"
   ]
  },
  {
   "cell_type": "markdown",
   "metadata": {},
   "source": [
    "In the following cell we define another plotting function, this one plotting the beta distribution which defines the individual-level variation in infectivity."
   ]
  },
  {
   "cell_type": "code",
   "execution_count": 11,
   "metadata": {},
   "outputs": [],
   "source": [
    "def plot_underlying_beta(fits):\n",
    "    \n",
    "    x = np.linspace(1e-2,1, 100)\n",
    "    y = stats.beta.pdf(x,\n",
    "                       fits.beta_poi['lambda'] * fits.beta_poi['Phi'],\n",
    "                       (1/fits.beta_poi['Nu'] - fits.beta_poi['lambda']) * fits.beta_poi['Phi'])\n",
    "    \n",
    "    fig,ax = plt.subplots(figsize=(10,10))\n",
    "    \n",
    "    plt.plot(x, y,'r-', lw=5, alpha=0.6, label='beta pdf')\n",
    "    \n",
    "    ax.axis([-0.01, 1.01, 0, 1.01*np.max(y)])\n",
    "    \n",
    "    ax.set_aspect(1.02/(1.01*np.max(y)))\n",
    "    \n",
    "    plt.xlabel('Transmission probability',fontsize=25)\n",
    "    \n",
    "    plt.ylabel('PDF',fontsize=25)\n",
    "    \n",
    "    plt.xticks(fontsize=25)\n",
    "    \n",
    "    plt.yticks(fontsize=25)\n",
    "    \n",
    "    plt.show()"
   ]
  },
  {
   "cell_type": "markdown",
   "metadata": {},
   "source": [
    "**Starting example: Plague**<br/>\n",
    "From [Gani and Leach 2004](https://www.ncbi.nlm.nih.gov/pmc/articles/PMC3323083/pdf/03-0509.pdf).\n",
    "\n",
    "To begin with, we calculate the maximum likelihood parameters and associated AIC for each model:"
   ]
  },
  {
   "cell_type": "code",
   "execution_count": 12,
   "metadata": {},
   "outputs": [
    {
     "name": "stdout",
     "output_type": "stream",
     "text": [
      "Distribution          | Lambda | Theta | Sigma |Nu=1/N |  Phi  | Log Likelihood |   AIC  |\n",
      "__________________________________________________________________________________________\n",
      "Poisson               | 1.325  |       |       |       |       |    -67.422     | 136.843\n",
      "Geometric             | 1.325  |       |       |       |       |    -63.551     | 129.102\n",
      "Negative binomial     | 1.325  | 0.923 |       |       |       |    -63.312     | 130.624\n",
      "Zero-inflated Poisson | 1.867  |       | 0.290 |       |       |    -63.945     | 131.890\n",
      "Beta Poisson          | 1.325  |       |       | 0.248 | 0.583 |    -63.120     | 132.240\n"
     ]
    }
   ],
   "source": [
    "gani_data = [0]*16+[1]*10+[2]*7+[3]*2+[4]*3+[5]+[6]\n",
    "\n",
    "gani_fits = trans_chain_mles(gani_data)\n",
    "\n",
    "np.set_printoptions(precision=3)\n",
    "print('Distribution          | Lambda | Theta | Sigma |Nu=1/N |  Phi  | Log Likelihood |   AIC  |')\n",
    "print('__________________________________________________________________________________________')\n",
    "print('Poisson               |', \"%.3f\"% gani_fits.poisson['lambda'],' |       |       |       |       |   ', \"%.3f\"% gani_fits.poisson['llh'],'    |', \"%.3f\"% gani_fits.poisson['AIC'])\n",
    "print('Geometric             |', \"%.3f\"% gani_fits.geometric['lambda'],' |       |       |       |       |   ', \"%.3f\"% gani_fits.geometric['llh'],'    |', \"%.3f\"% gani_fits.geometric['AIC'])\n",
    "print('Negative binomial     |', \"%.3f\"% gani_fits.neg_bin['lambda'],' |', \"%.3f\"% gani_fits.neg_bin['theta'],'|       |       |       |   ', \"%.3f\"% gani_fits.neg_bin['llh'],'    |', \"%.3f\"% gani_fits.neg_bin['AIC'])\n",
    "print('Zero-inflated Poisson |', \"%.3f\"% gani_fits.zip['lambda'],' |       |', \"%.3f\"% gani_fits.zip['sigma'],'|       |       |   ', \"%.3f\"% gani_fits.zip['llh'],'    |', \"%.3f\"% gani_fits.zip['AIC'])\n",
    "print('Beta Poisson          |', \"%.3f\"% gani_fits.beta_poi['lambda'],' |       |       |', \"%.3f\"% gani_fits.beta_poi['Nu'],'|', \"%.3f\"% gani_fits.beta_poi['Phi'],'|   ', \"%.3f\"% gani_fits.beta_poi['llh'],'    |', \"%.3f\"% gani_fits.beta_poi['AIC'])"
   ]
  },
  {
   "cell_type": "markdown",
   "metadata": {},
   "source": [
    "Plotting the data and fitted models demonstrates that the Poisson fails to capture the high incidence of zeros in the data:"
   ]
  },
  {
   "cell_type": "code",
   "execution_count": 13,
   "metadata": {},
   "outputs": [
    {
     "data": {
      "image/png": "[encoded data removed]",
      "text/plain": [
       "<Figure size 720x720 with 1 Axes>"
      ]
     },
     "metadata": {
      "needs_background": "light"
     },
     "output_type": "display_data"
    }
   ],
   "source": [
    "fig, ax = plt.subplots(figsize=(10,10))\n",
    "\n",
    "plot_chain_data_fits(gani_fits, ax, 'Plague')\n",
    "\n",
    "ax.legend(['Data','Poisson','Geometric','Negative binomial','ZIP','Beta-Poisson'],\n",
    "          bbox_to_anchor=(1.05,1),\n",
    "          loc='upper left')\n",
    "\n",
    "plt.show()"
   ]
  },
  {
   "cell_type": "markdown",
   "metadata": {},
   "source": [
    "We can also visualise the distribution of infectivity across cases in the fitted beta-Poisson by plotting the underlying beta distribution:"
   ]
  },
  {
   "cell_type": "code",
   "execution_count": 14,
   "metadata": {},
   "outputs": [
    {
     "data": {
      "image/png": "[encoded data removed]",
      "text/plain": [
       "<Figure size 720x720 with 1 Axes>"
      ]
     },
     "metadata": {
      "needs_background": "light"
     },
     "output_type": "display_data"
    }
   ],
   "source": [
    "plot_underlying_beta(gani_fits)"
   ]
  },
  {
   "cell_type": "markdown",
   "metadata": {},
   "source": [
    "The fitting behaviour of the beta-Poisson model can be visualised by calculating thelikelihood function of each parameter with the other two fixed at their MLEs. The slow decay of the likelihood function associated with increasing values of $\\Phi$ is consistent with the relatively high likelihood assigned to the Poisson distribution, which means that models with very low levels of overdispersion (i.e. large values of $\\Phi$) can give a good fit."
   ]
  },
  {
   "cell_type": "code",
   "execution_count": 15,
   "metadata": {},
   "outputs": [
    {
     "ename": "NameError",
     "evalue": "name 'current_data' is not defined",
     "output_type": "error",
     "traceback": [
      "\u001b[0;31m---------------------------------------------------------------------------\u001b[0m",
      "\u001b[0;31mNameError\u001b[0m                                 Traceback (most recent call last)",
      "\u001b[0;32m<ipython-input-15-d6f4cb695af3>\u001b[0m in \u001b[0;36m<module>\u001b[0;34m\u001b[0m\n\u001b[0;32m----> 1\u001b[0;31m \u001b[0mtrue_lmbd\u001b[0m\u001b[0;34m,\u001b[0m\u001b[0mtrue_phi\u001b[0m\u001b[0;34m,\u001b[0m\u001b[0mtrue_N\u001b[0m\u001b[0;34m=\u001b[0m\u001b[0mnp\u001b[0m\u001b[0;34m.\u001b[0m\u001b[0mmean\u001b[0m\u001b[0;34m(\u001b[0m\u001b[0mcurrent_data\u001b[0m\u001b[0;34m)\u001b[0m\u001b[0;34m,\u001b[0m\u001b[0mphi_mle\u001b[0m\u001b[0;34m,\u001b[0m\u001b[0;36m1\u001b[0m\u001b[0;34m/\u001b[0m\u001b[0mN_inv_mle\u001b[0m\u001b[0;34m\u001b[0m\u001b[0;34m\u001b[0m\u001b[0m\n\u001b[0m\u001b[1;32m      2\u001b[0m \u001b[0mdata\u001b[0m\u001b[0;34m=\u001b[0m\u001b[0mcurrent_data\u001b[0m\u001b[0;34m\u001b[0m\u001b[0;34m\u001b[0m\u001b[0m\n\u001b[1;32m      3\u001b[0m \u001b[0mlmbd_lh_array\u001b[0m\u001b[0;34m=\u001b[0m\u001b[0mbeta_poisson_loglh\u001b[0m\u001b[0;34m(\u001b[0m\u001b[0mdata\u001b[0m\u001b[0;34m,\u001b[0m\u001b[0mnp\u001b[0m\u001b[0;34m.\u001b[0m\u001b[0mlinspace\u001b[0m\u001b[0;34m(\u001b[0m\u001b[0;36m0.01\u001b[0m\u001b[0;34m,\u001b[0m\u001b[0;36m5\u001b[0m\u001b[0;34m,\u001b[0m\u001b[0;36m500\u001b[0m\u001b[0;34m)\u001b[0m\u001b[0;34m,\u001b[0m\u001b[0mtrue_phi\u001b[0m\u001b[0;34m,\u001b[0m\u001b[0mtrue_N\u001b[0m\u001b[0;34m)\u001b[0m\u001b[0;34m\u001b[0m\u001b[0;34m\u001b[0m\u001b[0m\n\u001b[1;32m      4\u001b[0m \u001b[0mphi_lh_array\u001b[0m\u001b[0;34m=\u001b[0m\u001b[0mnp\u001b[0m\u001b[0;34m.\u001b[0m\u001b[0mzeros\u001b[0m\u001b[0;34m(\u001b[0m\u001b[0;36m1000\u001b[0m\u001b[0;34m)\u001b[0m\u001b[0;34m\u001b[0m\u001b[0;34m\u001b[0m\u001b[0m\n\u001b[1;32m      5\u001b[0m \u001b[0;32mfor\u001b[0m \u001b[0mi\u001b[0m \u001b[0;32min\u001b[0m \u001b[0mrange\u001b[0m\u001b[0;34m(\u001b[0m\u001b[0;36m1000\u001b[0m\u001b[0;34m)\u001b[0m\u001b[0;34m:\u001b[0m\u001b[0;34m\u001b[0m\u001b[0;34m\u001b[0m\u001b[0m\n",
      "\u001b[0;31mNameError\u001b[0m: name 'current_data' is not defined"
     ]
    }
   ],
   "source": [
    "true_lmbd,true_phi,true_N=np.mean(current_data),phi_mle,1/N_inv_mle\n",
    "data=current_data\n",
    "lmbd_lh_array=beta_poisson_loglh(data,np.linspace(0.01,5,500),true_phi,true_N)\n",
    "phi_lh_array=np.zeros(1000)\n",
    "for i in range(1000):\n",
    "    phi_lh_array[i]=beta_poisson_loglh(data,true_lmbd,(i+1)*1e-2,true_N)\n",
    "n_lh_array=np.zeros(750)\n",
    "n_lh_array[0]=neg_bin_bp_loglh(data,true_lmbd,true_phi)\n",
    "for i in range(1,750):\n",
    "    n_lh_array[i]=beta_poisson_loglh(data,true_lmbd,true_phi,1/(i/1000))\n",
    "\n",
    "fig,ax=plt.subplots(figsize=(8,8))\n",
    "ax.plot(np.linspace(0.01,5,500),lmbd_lh_array,'k',linewidth=6)\n",
    "ax.plot([true_lmbd,true_lmbd],ax.get_ylim(),'--b',linewidth=6)\n",
    "plt.xlabel('$\\lambda$',fontsize=40)\n",
    "plt.ylabel('Log likelihood',fontsize=40)\n",
    "plt.xticks(fontsize=40)\n",
    "plt.yticks(fontsize=40)\n",
    "plt.show()\n",
    "\n",
    "fig,ax=plt.subplots(figsize=(8,8))\n",
    "ax.plot(np.linspace(0.01,10,1000),phi_lh_array,'k',linewidth=6)\n",
    "ax.plot([true_phi,true_phi],ax.get_ylim(),'--b',linewidth=6)\n",
    "plt.xlabel('$\\Phi$',fontsize=40)\n",
    "plt.ylabel('Log likelihood',fontsize=40)\n",
    "plt.xticks(fontsize=40)\n",
    "plt.yticks(fontsize=40)\n",
    "plt.show()\n",
    "\n",
    "fig,ax=plt.subplots(figsize=(8,8))\n",
    "ax.plot(np.linspace(0.0,0.749,750),n_lh_array,'k',linewidth=6)\n",
    "ax.plot([1/true_N,1/true_N],ax.get_ylim(),'--b',linewidth=6)\n",
    "plt.xlabel('$\\\\nu$',fontsize=40)\n",
    "plt.ylabel('Log likelihood',fontsize=40)\n",
    "plt.xticks(fontsize=30)\n",
    "plt.yticks(fontsize=40)\n",
    "plt.show()"
   ]
  },
  {
   "cell_type": "markdown",
   "metadata": {},
   "source": [
    "## More datasets\n",
    "\n",
    "In the cell below we define some more datasets and fit maximum likelihood parameters to each of them for each model."
   ]
  },
  {
   "cell_type": "code",
   "execution_count": null,
   "metadata": {},
   "outputs": [],
   "source": [
    "jezek_data_g1=[0]*114+[1]*23+[2]*8+[3]*1+[5]*1 # First generation cases\n",
    "jezek_data_g2=[0]*38+[1]*7+[2]*1+[3]*1 # Second generation cases\n",
    "jezek_data_g3=[0]*9+[1]+[2]\n",
    "jezek_data_g4=[0]*2+[1]\n",
    "jezek_data=jezek_data_g1+jezek_data_g2+jezek_data_g3+jezek_data_g4\n",
    "\n",
    "faye_data=[1,2,2,5,14,1,4,4,1,3,3,8,2,1,1,4,9,9,1,1,17,2,1,1,1,4,3,3,4,2,5,1,2,2,1,9,1,3,1,2,1,1,2]\n",
    "faye_data=faye_data+[0]*(152-len(faye_data))\n",
    "fasina_data=[0]*15+[1]*2+[2]+[3]+[12]\n",
    "leo_data=[0]*162+[1]*19+[2]*8+[3]*7+[7]+[12]+[21]+[23]+[40]\n",
    "cowling_data=[38,3,2,1,6,81,2,23,2,1,1,1,5,1,1,1,2,1,1,1]\n",
    "cowling_data=cowling_data+[0]*(166-len(cowling_data))\n",
    "chowell_data=[0]*13+[1]*5+[2]*4+[3]+[7]\n",
    "heijne_data=[0]*22+[1]*13+[2]*6+[3]*3+[4]+[5]\n",
    "\n",
    "jezek_fits = trans_chain_mles(jezek_data)\n",
    "faye_fits = trans_chain_mles(faye_data)\n",
    "fasina_fits = trans_chain_mles(fasina_data)\n",
    "leo_fits = trans_chain_mles(leo_data)\n",
    "cowling_fits = trans_chain_mles(cowling_data)\n",
    "chowell_fits = trans_chain_mles(chowell_data)\n",
    "heijne_fits = trans_chain_mles(heijne_data)"
   ]
  },
  {
   "cell_type": "code",
   "execution_count": null,
   "metadata": {},
   "outputs": [],
   "source": [
    "print('Dataset | Empirical |      Poisson      |     Geometric      |  Negative binomial  |        ZIP        | Beta-Poisson ')\n",
    "print('Gani    | (',\"%.3f\"% gani_fits.mean,',',\"%.3f\"% gani_fits.var,') | (',\"%.3f\"% gani_fits.poisson['mean'],',',\"%.3f\"% gani_fits.poisson['var'],') | (',\"%.3f\"% gani_fits.geometric['mean'],',',\"%.3f\"% gani_fits.geometric['var'],')  |  (',\"%.3f\"% gani_fits.neg_bin['mean'],',',\"%.3f\"% gani_fits.neg_bin['var'],')  | (',\"%.3f\"% gani_fits.zip['mean'],',',\"%.3f\"% gani_fits.zip['var'],') | (',\"%.3f\"% gani_fits.beta_poi['mean'],',',\"%.3f\"% gani_fits.beta_poi['var'],') ')\n",
    "print('Jezek   | (',\"%.3f\"% jezek_fits.mean,',',\"%.3f\"% jezek_fits.var,') | (',\"%.3f\"% jezek_fits.poisson['mean'],',',\"%.3f\"% jezek_fits.poisson['var'],') | (',\"%.3f\"% jezek_fits.geometric['mean'],',',\"%.3f\"% jezek_fits.geometric['var'],')  |  (',\"%.3f\"% jezek_fits.neg_bin['mean'],',',\"%.3f\"% jezek_fits.neg_bin['var'],')  | (',\"%.3f\"% jezek_fits.zip['mean'],',',\"%.3f\"% jezek_fits.zip['var'],') | (',\"%.3f\"% jezek_fits.beta_poi['mean'],',',\"%.3f\"% jezek_fits.beta_poi['var'],') ')\n",
    "print('Faye    | (',\"%.3f\"% faye_fits.mean,',',\"%.3f\"% faye_fits.var,') | (',\"%.3f\"% faye_fits.poisson['mean'],',',\"%.3f\"% faye_fits.poisson['var'],') | (',\"%.3f\"% faye_fits.geometric['mean'],',',\"%.3f\"% faye_fits.geometric['var'],')  |  (',\"%.3f\"% faye_fits.neg_bin['mean'],',',\"%.3f\"% faye_fits.neg_bin['var'],')  | (',\"%.3f\"% faye_fits.zip['mean'],',',\"%.3f\"% faye_fits.zip['var'],') | (',\"%.3f\"% faye_fits.beta_poi['mean'],',',\"%.3f\"% faye_fits.beta_poi['var'],') ')\n",
    "print('Fasina  | (',\"%.3f\"% fasina_fits.mean,',',\"%.3f\"% fasina_fits.var,') | (',\"%.3f\"% fasina_fits.poisson['mean'],',',\"%.3f\"% fasina_fits.poisson['var'],') | (',\"%.3f\"% fasina_fits.geometric['mean'],',',\"%.3f\"% fasina_fits.geometric['var'],')  |  (',\"%.3f\"% fasina_fits.neg_bin['mean'],',',\"%.3f\"% fasina_fits.neg_bin['var'],')  | (',\"%.3f\"% fasina_fits.zip['mean'],',',\"%.3f\"% fasina_fits.zip['var'],') | (',\"%.3f\"% fasina_fits.beta_poi['mean'],',',\"%.3f\"% fasina_fits.beta_poi['var'],') ')\n",
    "print('Leo     | (',\"%.3f\"% leo_fits.mean,',',\"%.3f\"% leo_fits.var,') | (',\"%.3f\"% leo_fits.poisson['mean'],',',\"%.3f\"% leo_fits.poisson['var'],') | (',\"%.3f\"% leo_fits.geometric['mean'],',',\"%.3f\"% leo_fits.geometric['var'],')  |  (',\"%.3f\"% leo_fits.neg_bin['mean'],',',\"%.3f\"% leo_fits.neg_bin['var'],')  | (',\"%.3f\"% leo_fits.zip['mean'],',',\"%.3f\"% leo_fits.zip['var'],') | (',\"%.3f\"% leo_fits.beta_poi['mean'],',',\"%.3f\"% leo_fits.beta_poi['var'],') ')\n",
    "print('Cowling | (',\"%.3f\"% cowling_fits.mean,',',\"%.3f\"% cowling_fits.var,') | (',\"%.3f\"% cowling_fits.poisson['mean'],',',\"%.3f\"% cowling_fits.poisson['var'],') | (',\"%.3f\"% cowling_fits.geometric['mean'],',',\"%.3f\"% cowling_fits.geometric['var'],') | (',\"%.3f\"% cowling_fits.neg_bin['mean'],',',\"%.3f\"% cowling_fits.neg_bin['var'],') | (',\"%.3f\"% cowling_fits.zip['mean'],',',\"%.3f\"% cowling_fits.zip['var'],') | (',\"%.3f\"% cowling_fits.beta_poi['mean'],',',\"%.3f\"% cowling_fits.beta_poi['var'],') ')\n",
    "print('Chowell | (',\"%.3f\"% chowell_fits.mean,',',\"%.3f\"% chowell_fits.var,') | (',\"%.3f\"% chowell_fits.poisson['mean'],',',\"%.3f\"% chowell_fits.poisson['var'],') | (',\"%.3f\"% chowell_fits.geometric['mean'],',',\"%.3f\"% chowell_fits.geometric['var'],')  |  (',\"%.3f\"% chowell_fits.neg_bin['mean'],',',\"%.3f\"% chowell_fits.neg_bin['var'],')  | (',\"%.3f\"% chowell_fits.zip['mean'],',',\"%.3f\"% chowell_fits.zip['var'],') | (',\"%.3f\"% chowell_fits.beta_poi['mean'],',',\"%.3f\"% chowell_fits.beta_poi['var'],') ')\n",
    "print('Heijne  | (',\"%.3f\"% heijne_fits.mean,',',\"%.3f\"% heijne_fits.var,') | (',\"%.3f\"% heijne_fits.poisson['mean'],',',\"%.3f\"% heijne_fits.poisson['var'],') | (',\"%.3f\"% heijne_fits.geometric['mean'],',',\"%.3f\"% heijne_fits.geometric['var'],')  |  (',\"%.3f\"% heijne_fits.neg_bin['mean'],',',\"%.3f\"% heijne_fits.neg_bin['var'],')  | (',\"%.3f\"% heijne_fits.zip['mean'],',',\"%.3f\"% heijne_fits.zip['var'],') | (',\"%.3f\"% heijne_fits.beta_poi['mean'],',',\"%.3f\"% heijne_fits.beta_poi['var'],') ')"
   ]
  },
  {
   "cell_type": "code",
   "execution_count": null,
   "metadata": {},
   "outputs": [],
   "source": [
    "print('Dataset & Empirical & Poisson & Geometric & Negative binomial & ZIP & Beta-Poisson \\')\n",
    "print(' & Mean & Variance & Mean & Variance & Mean & Variance & Mean & Variance & Mean & Variance & Mean & Variance \\')\n",
    "print('Gani & ',\"%.3f\"% gani_fits.mean,'&',\"%.3f\"% gani_fits.var,' & ',\"%.3f\"% gani_fits.poisson['mean'],' & ',\"%.3f\"% gani_fits.poisson['var'],' & ',\"%.3f\"% gani_fits.geometric['mean'],' & ',\"%.3f\"% gani_fits.geometric['var'],' & ',\"%.3f\"% gani_fits.neg_bin['mean'],' & ',\"%.3f\"% gani_fits.neg_bin['var'],' & ',\"%.3f\"% gani_fits.zip['mean'],' & ',\"%.3f\"% gani_fits.zip['var'],' & ',\"%.3f\"% gani_fits.beta_poi['mean'],' & ',\"%.3f\"% gani_fits.beta_poi['var'],' \\')\n",
    "print('Jezek & ',\"%.3f\"% jezek_fits.mean,' & ',\"%.3f\"% jezek_fits.var,' & ',\"%.3f\"% jezek_fits.poisson['mean'],' & ',\"%.3f\"% jezek_fits.poisson['var'],' & ',\"%.3f\"% jezek_fits.geometric['mean'],' & ',\"%.3f\"% jezek_fits.geometric['var'],' & ',\"%.3f\"% jezek_fits.neg_bin['mean'],' & ',\"%.3f\"% jezek_fits.neg_bin['var'],' & ',\"%.3f\"% jezek_fits.zip['mean'],' & ',\"%.3f\"% jezek_fits.zip['var'],' & ',\"%.3f\"% jezek_fits.beta_poi['mean'],' & ',\"%.3f\"% jezek_fits.beta_poi['var'],' \\')\n",
    "print('Faye & ',\"%.3f\"% faye_fits.mean,' & ',\"%.3f\"% faye_fits.var,' & ',\"%.3f\"% faye_fits.poisson['mean'],' & ',\"%.3f\"% faye_fits.poisson['var'],' & ',\"%.3f\"% faye_fits.geometric['mean'],' & ',\"%.3f\"% faye_fits.geometric['var'],' & ',\"%.3f\"% faye_fits.neg_bin['mean'],' & ',\"%.3f\"% faye_fits.neg_bin['var'],' & ',\"%.3f\"% faye_fits.zip['mean'],' & ',\"%.3f\"% faye_fits.zip['var'],' & ',\"%.3f\"% faye_fits.beta_poi['mean'],' & ',\"%.3f\"% faye_fits.beta_poi['var'],' \\')\n",
    "print('Fasina & ',\"%.3f\"% fasina_fits.mean,' & ',\"%.3f\"% fasina_fits.var,' & ',\"%.3f\"% fasina_fits.poisson['mean'],' & ',\"%.3f\"% fasina_fits.poisson['var'],' & ',\"%.3f\"% fasina_fits.geometric['mean'],' & ',\"%.3f\"% fasina_fits.geometric['var'],' & ',\"%.3f\"% fasina_fits.neg_bin['mean'],' & ',\"%.3f\"% fasina_fits.neg_bin['var'],' & ',\"%.3f\"% fasina_fits.zip['mean'],' & ',\"%.3f\"% fasina_fits.zip['var'],' & ',\"%.3f\"% fasina_fits.beta_poi['mean'],' & ',\"%.3f\"% fasina_fits.beta_poi['var'],' \\')\n",
    "print('Leo & ',\"%.3f\"% leo_fits.mean,' & ',\"%.3f\"% leo_fits.var,' & ',\"%.3f\"% leo_fits.poisson['mean'],' & ',\"%.3f\"% leo_fits.poisson['var'],' & ',\"%.3f\"% leo_fits.geometric['mean'],' & ',\"%.3f\"% leo_fits.geometric['var'],' & ',\"%.3f\"% leo_fits.neg_bin['mean'],',',\"%.3f\"% leo_fits.neg_bin['var'],' & ',\"%.3f\"% leo_fits.zip['mean'],',',\"%.3f\"% leo_fits.zip['var'],' & ',\"%.3f\"% leo_fits.beta_poi['mean'],' & ',\"%.3f\"% leo_fits.beta_poi['var'],' \\')\n",
    "print('Cowling & ',\"%.3f\"% cowling_fits.mean,' & ',\"%.3f\"% cowling_fits.var,' & ',\"%.3f\"% cowling_fits.poisson['mean'],' & ',\"%.3f\"% cowling_fits.poisson['var'],' & ',\"%.3f\"% cowling_fits.geometric['mean'],' & ',\"%.3f\"% cowling_fits.geometric['var'],' & ',\"%.3f\"% cowling_fits.neg_bin['mean'],' & ',\"%.3f\"% cowling_fits.neg_bin['var'],' & ',\"%.3f\"% cowling_fits.zip['mean'],' & ',\"%.3f\"% cowling_fits.zip['var'],' & ',\"%.3f\"% cowling_fits.beta_poi['mean'],' & ',\"%.3f\"% cowling_fits.beta_poi['var'],' \\')\n",
    "print('Chowell & ',\"%.3f\"% chowell_fits.mean,' & ',\"%.3f\"% chowell_fits.var,' & ',\"%.3f\"% chowell_fits.poisson['mean'],' & ',\"%.3f\"% chowell_fits.poisson['var'],' & ',\"%.3f\"% chowell_fits.geometric['mean'],' & ',\"%.3f\"% chowell_fits.geometric['var'],' & ',\"%.3f\"% chowell_fits.neg_bin['mean'],' & ',\"%.3f\"% chowell_fits.neg_bin['var'],' & ',\"%.3f\"% chowell_fits.zip['mean'],' & ',\"%.3f\"% chowell_fits.zip['var'],' & ',\"%.3f\"% chowell_fits.beta_poi['mean'],' & ',\"%.3f\"% chowell_fits.beta_poi['var'],' \\')\n",
    "print('Heijne & ',\"%.3f\"% heijne_fits.mean,' & ',\"%.3f\"% heijne_fits.var,' & ',\"%.3f\"% heijne_fits.poisson['mean'],' & ',\"%.3f\"% heijne_fits.poisson['var'],' & ',\"%.3f\"% heijne_fits.geometric['mean'],' & ',\"%.3f\"% heijne_fits.geometric['var'],' & ',\"%.3f\"% heijne_fits.neg_bin['mean'],'v',\"%.3f\"% heijne_fits.neg_bin['var'],' & ',\"%.3f\"% heijne_fits.zip['mean'],' & ',\"%.3f\"% heijne_fits.zip['var'],' & ',\"%.3f\"% heijne_fits.beta_poi['mean'],' & ',\"%.3f\"% heijne_fits.beta_poi['var'],' \\')"
   ]
  },
  {
   "cell_type": "code",
   "execution_count": null,
   "metadata": {},
   "outputs": [],
   "source": [
    "print('Dataset | Poisson | Geometric | Negative binomial ')\n",
    "print('__________________________________________________')\n",
    "print('Gani    | ',\"%.3f\"% np.exp(gani_fits.poisson['llh'] - gani_fits.beta_poi['llh']),' |  ',\"%.3f\"% np.exp(gani_fits.geometric['llh'] - gani_fits.beta_poi['llh']),'  |  ',\"%.3f\"% np.exp(gani_fits.neg_bin['llh'] - gani_fits.beta_poi['llh']))\n",
    "print('Jezek   | ',\"%.3f\"% np.exp(jezek_fits.poisson['llh'] - jezek_fits.beta_poi['llh']),' |  ',\"%.3f\"% np.exp(jezek_fits.geometric['llh'] - jezek_fits.beta_poi['llh']),'  |  ',\"%.3f\"% np.exp(jezek_fits.neg_bin['llh'] - jezek_fits.beta_poi['llh']))\n",
    "print('Faye    | ',\"%.3f\"% np.exp(faye_fits.poisson['llh'] - faye_fits.beta_poi['llh']),' |  ',\"%.3f\"% np.exp(faye_fits.geometric['llh'] - faye_fits.beta_poi['llh']),'  |  ',\"%.3f\"% np.exp(faye_fits.neg_bin['llh'] - faye_fits.beta_poi['llh']))\n",
    "print('Fasina  | ',\"%.3f\"% np.exp(fasina_fits.poisson['llh'] - fasina_fits.beta_poi['llh']),' |  ',\"%.3f\"% np.exp(fasina_fits.geometric['llh'] - fasina_fits.beta_poi['llh']),'  |  ',\"%.3f\"% np.exp(fasina_fits.neg_bin['llh'] - fasina_fits.beta_poi['llh']))\n",
    "print('Leo     | ',\"%.3f\"% np.exp(leo_fits.poisson['llh'] - leo_fits.beta_poi['llh']),' |  ',\"%.3f\"% np.exp(leo_fits.geometric['llh'] - leo_fits.beta_poi['llh']),'  |  ',\"%.3f\"% np.exp(leo_fits.neg_bin['llh'] - leo_fits.beta_poi['llh']))\n",
    "print('Cowling | ',\"%.3f\"% np.exp(cowling_fits.poisson['llh'] - cowling_fits.beta_poi['llh']),' |  ',\"%.3f\"% np.exp(cowling_fits.geometric['llh'] - cowling_fits.beta_poi['llh']),'  |  ',\"%.3f\"% np.exp(cowling_fits.neg_bin['llh'] - cowling_fits.beta_poi['llh']))\n",
    "print('Chowell | ',\"%.3f\"% np.exp(chowell_fits.poisson['llh'] - chowell_fits.beta_poi['llh']),' |  ',\"%.3f\"% np.exp(chowell_fits.geometric['llh'] - chowell_fits.beta_poi['llh']),'  |  ',\"%.3f\"% np.exp(chowell_fits.neg_bin['llh'] - chowell_fits.beta_poi['llh']))\n",
    "print('Heijne  | ',\"%.3f\"% np.exp(heijne_fits.poisson['llh'] - heijne_fits.beta_poi['llh']),' |  ',\"%.3f\"% np.exp(heijne_fits.geometric['llh'] - heijne_fits.beta_poi['llh']),'  |  ',\"%.3f\"% np.exp(heijne_fits.neg_bin['llh'] - heijne_fits.beta_poi['llh']))"
   ]
  },
  {
   "cell_type": "code",
   "execution_count": null,
   "metadata": {},
   "outputs": [],
   "source": [
    "print('Dataset | Nu')\n",
    "print('____________________________')\n",
    "print('Gani    |', \"%.3f\"% gani_fits.beta_poi['Nu'],'= 1 /',\"%.3f\"% (1/gani_fits.beta_poi['Nu']))\n",
    "print('Jezek   |', \"%.3f\"% jezek_fits.beta_poi['Nu'],'= 1 /',\"%.3f\"% (1/jezek_fits.beta_poi['Nu']))\n",
    "print('Faye    |', \"%.3f\"% faye_fits.beta_poi['Nu'],'= 1 /',\"%.3f\"% (1/faye_fits.beta_poi['Nu']))\n",
    "print('Fasina  |', \"%.3f\"% fasina_fits.beta_poi['Nu'],'= 1 /',\"%.3f\"% (1/fasina_fits.beta_poi['Nu']))\n",
    "print('Leo     |', \"%.3f\"% leo_fits.beta_poi['Nu'],'= 1 /',\"%.3f\"% (1/leo_fits.beta_poi['Nu']))\n",
    "print('Cowling |', \"%.3f\"% cowling_fits.beta_poi['Nu'],'= 1 /',\"%.3f\"% (1/cowling_fits.beta_poi['Nu']))\n",
    "print('Chowell |', \"%.3f\"% chowell_fits.beta_poi['Nu'],'= 1 /',\"%.3f\"% (1/chowell_fits.beta_poi['Nu']))\n",
    "print('Heijne  |', \"%.3f\"% heijne_fits.beta_poi['Nu'],'= 1 /',\"%.3f\"% (1/heijne_fits.beta_poi['Nu']))"
   ]
  },
  {
   "cell_type": "code",
   "execution_count": null,
   "metadata": {
    "scrolled": false
   },
   "outputs": [],
   "source": [
    "fig = plt.figure(figsize=(50,20))\n",
    "gani_ax = plt.subplot2grid((2,4),(0,0))\n",
    "jezek_ax = plt.subplot2grid((2,4),(0,1))\n",
    "faye_ax = plt.subplot2grid((2,4),(0,2))\n",
    "fasina_ax = plt.subplot2grid((2,4),(0,3))\n",
    "leo_ax = plt.subplot2grid((2,4),(1,0))\n",
    "cowling_ax = plt.subplot2grid((2,4),(1,1))\n",
    "chowell_ax = plt.subplot2grid((2,4),(1,2))\n",
    "heijne_ax = plt.subplot2grid((2,4),(1,3))\n",
    "\n",
    "plot_chain_data_fits(gani_fits, gani_ax, 'Plague, Gani and Leach',30)\n",
    "plot_chain_data_fits(jezek_fits, jezek_ax, 'Monkeypox, Jezek et al.',30)\n",
    "plot_chain_data_fits(faye_fits, faye_ax, 'Ebola, Faye et al.',30)\n",
    "plot_chain_data_fits(fasina_fits, fasina_ax, 'Ebola, Fasina et al.',30)\n",
    "plot_chain_data_fits(leo_fits, leo_ax, 'SARS, Leo et al.',30)\n",
    "plot_chain_data_fits(cowling_fits, cowling_ax, 'MERS-CoV, Cowling et al.',30)\n",
    "plot_chain_data_fits(chowell_fits, chowell_ax, 'MERS-CoV, Chowell et al.',30)\n",
    "plot_chain_data_fits(heijne_fits, heijne_ax, 'Norovirus, Heijne et al.',30)\n",
    "\n",
    "fasina_ax.legend(['Data','Poisson','Geometric','Negative binomial','ZIP','Beta-Poisson'],\n",
    "          bbox_to_anchor=(1.05,1),\n",
    "          loc='upper left',\n",
    "          fontsize=30)\n",
    "\n",
    "plt.tight_layout()\n",
    "plt.show()"
   ]
  },
  {
   "cell_type": "markdown",
   "metadata": {},
   "source": [
    "## Confidence intervals\n",
    "\n",
    "The bootstrap sampling used to calculate confidence intervals for the negative binomial and beta-Poisson models is very time consuming when large numbers of samples are used."
   ]
  },
  {
   "cell_type": "code",
   "execution_count": null,
   "metadata": {},
   "outputs": [],
   "source": [
    "def poisson_confidence_intervals(data,interval,points):\n",
    "    lmbd=np.linspace(interval[0],interval[1],points)\n",
    "    llh=np.zeros(points)\n",
    "    for x in data:\n",
    "        llh += stats.poisson.logpmf(x,lmbd)\n",
    "    mle_loc=np.argmax(llh)\n",
    "    lh_normed=np.exp(llh)/np.sum(np.exp(llh))\n",
    "    current_max=lh_normed[mle_loc]\n",
    "    interval_weight=current_max\n",
    "    while interval_weight<0.95:\n",
    "        max_loc=np.argmax(lh_normed[np.where(lh_normed<current_max)])\n",
    "        current_max=lh_normed[np.where(lh_normed<current_max)][max_loc]\n",
    "        interval_weight+=current_max\n",
    "    ci=[np.min(lmbd[np.where(lh_normed>=current_max)[0]]),np.max(lmbd[np.where(lh_normed>=current_max)[0]])]\n",
    "    return ci\n",
    "\n",
    "def geometric_confidence_intervals(data,interval,points):\n",
    "    lmbd=np.linspace(interval[0],interval[1],points)\n",
    "    llh=np.zeros(points)\n",
    "    for x in data:\n",
    "        llh += stats.geom.logpmf(x,1/(lmbd+1),-1)\n",
    "    mle_loc=np.argmax(llh)\n",
    "    lh_normed=np.exp(llh)/np.sum(np.exp(llh))\n",
    "    current_max=lh_normed[mle_loc]\n",
    "    interval_weight=current_max\n",
    "    while interval_weight<0.95:\n",
    "        max_loc=np.argmax(lh_normed[np.where(lh_normed<current_max)])\n",
    "        current_max=lh_normed[np.where(lh_normed<current_max)][max_loc]\n",
    "        interval_weight+=current_max\n",
    "    ci=[np.min(lmbd[np.where(lh_normed>=current_max)[0]]),np.max(lmbd[np.where(lh_normed>=current_max)[0]])]\n",
    "    return ci\n",
    "\n",
    "def zip_confidence_intervals(data,lmbd_interval,lmbd_points,sigma_points):\n",
    "    lmbd=np.linspace(lmbd_interval[0],lmbd_interval[1],lmbd_points)\n",
    "    sigma=np.linspace(0,1,sigma_points)\n",
    "    \n",
    "    lmbdgrid,sigmagrid=np.meshgrid(lmbd,sigma)\n",
    "    mean_grid = np.multiply(lmbdgrid, (1-sigmagrid))\n",
    "    var_grid = np.multiply(lmbdgrid, np.multiply((1-sigmagrid),(1+np.multiply(lmbdgrid,sigmagrid))))\n",
    "    llh=np.zeros(lmbdgrid.shape)\n",
    "    for x in data:\n",
    "        llh += zip_loglh([x],lmbdgrid,sigmagrid)\n",
    "    mle_loc=np.unravel_index(np.argmax(llh),llh.shape)\n",
    "    lh_normed=np.exp(llh)/np.sum(np.exp(llh))\n",
    "    current_max=lh_normed[mle_loc]\n",
    "    interval_weight=current_max\n",
    "    while interval_weight<0.95:\n",
    "        max_loc=np.unravel_index(np.argmax(lh_normed),lh_normed.shape)\n",
    "        current_max=lh_normed[max_loc]\n",
    "        lh_normed[max_loc]=0\n",
    "        interval_weight+=current_max\n",
    "    lh_normed=np.exp(llh)/np.sum(np.exp(llh))\n",
    "    lmbd_ci=[np.min(lmbdgrid[np.where(lh_normed>=current_max)]),np.max(lmbdgrid[np.where(lh_normed>=current_max)])]\n",
    "    sigma_ci=[np.min(sigmagrid[np.where(lh_normed>=current_max)]),np.max(sigmagrid[np.where(lh_normed>=current_max)])]\n",
    "    mean_ci=[np.min(mean_grid[np.where(lh_normed>=current_max)]),np.max(mean_grid[np.where(lh_normed>=current_max)])]\n",
    "    var_ci=[np.min(var_grid[np.where(lh_normed>=current_max)]),np.max(var_grid[np.where(lh_normed>=current_max)])]\n",
    "    return lmbd_ci,sigma_ci,mean_ci, var_ci"
   ]
  },
  {
   "cell_type": "code",
   "execution_count": null,
   "metadata": {},
   "outputs": [],
   "source": [
    "def neg_bin_bootstrap(data,no_samples,theta_0):\n",
    "    \n",
    "    sample_size=np.size(data)\n",
    "    \n",
    "    lmbd_samples = []\n",
    "    theta_samples = []\n",
    "    \n",
    "    print('Now calculating',no_samples,'bootstrap samples.')\n",
    "    start_time=time.time()\n",
    "    for i in range(no_samples):\n",
    "        data_now=random.choices(data,k=sample_size)\n",
    "        lmbd_samples = lmbd_samples + [np.mean(data_now)]\n",
    "        theta_samples = theta_samples + [get_theta_mle(data_now,theta_0)]\n",
    "        if ((i+1)%1000)==0:\n",
    "            print('Sample',i+1,'of',no_samples,'completed.',time.time()-start_time,'seconds elapsed, approximately',(no_samples-i-1)*(time.time()-start_time)/(i+1),'remaining.')\n",
    "    \n",
    "    lmbd_samples = np.array(lmbd_samples)\n",
    "    theta_samples = np.array(theta_samples)\n",
    "    var_samples=np.multiply(lmbd_samples,(1+theta_samples))\n",
    "    \n",
    "    lmbd_ci=[np.percentile(lmbd_samples,2.5),np.percentile(lmbd_samples,97.5)]\n",
    "    theta_ci=[np.percentile(theta_samples,2.5),np.percentile(theta_samples,97.5)]\n",
    "    var_ci=[np.percentile(var_samples,2.5),np.percentile(var_samples,97.5)]\n",
    "    \n",
    "    return lmbd_ci,lmbd_samples,theta_ci,theta_samples,var_ci,var_samples"
   ]
  },
  {
   "cell_type": "code",
   "execution_count": null,
   "metadata": {},
   "outputs": [],
   "source": [
    "def beta_poisson_bootstrap(data,no_samples,phi_0,N_0):\n",
    "    \n",
    "    sample_size=np.size(data)\n",
    "    \n",
    "    lmbd_samples = []\n",
    "    Phi_samples = []\n",
    "    Nu_samples = []\n",
    "    \n",
    "    print('Now calculating',no_samples,'bootstrap samples.')\n",
    "    start_time=time.time()\n",
    "    for i in range(no_samples):\n",
    "        data_now=random.choices(data,k=sample_size)\n",
    "        lmbd_samples = lmbd_samples + [np.mean(data_now)]\n",
    "        Phi_now, Nu_now=get_phi_and_N_mles(data_now,phi_0,N_0)\n",
    "        Phi_samples = Phi_samples + [Phi_now]\n",
    "        Nu_samples = Nu_samples + [Nu_now]\n",
    "        if ((i+1)%1000)==0:\n",
    "            print('Sample',i+1,'of',no_samples,'completed.',time.time()-start_time,'seconds elapsed, approximately',(no_samples-i-1)*(time.time()-start_time)/(i+1),'remaining.')\n",
    "    \n",
    "    lmbd_samples = np.array(lmbd_samples)\n",
    "    Phi_samples = np.array(Phi_samples)\n",
    "    Nu_samples = np.array(Nu_samples)\n",
    "    var_samples=lmbd_samples*(1+(1-lmbd_samples*Nu_samples)/(Phi_samples+Nu_samples)) \n",
    "   \n",
    "    lmbd_ci=[np.percentile(lmbd_samples,2.5),np.percentile(lmbd_samples,97.5)]\n",
    "    Phi_ci=[np.percentile(Phi_samples,2.5),np.percentile(Phi_samples,97.5)]\n",
    "    Nu_ci=[np.percentile(Nu_samples,2.5),np.percentile(Nu_samples,97.5)]\n",
    "    var_ci=[np.percentile(var_samples,2.5),np.percentile(var_samples,97.5)]\n",
    "    \n",
    "    return lmbd_ci,lmbd_samples,Phi_ci,Phi_samples,Nu_ci,Nu_samples,var_ci,var_samples"
   ]
  },
  {
   "cell_type": "code",
   "execution_count": null,
   "metadata": {},
   "outputs": [],
   "source": [
    "class confidence_intervals:\n",
    "    def __init__(self,data):\n",
    "        self.data = data\n",
    "        self.mean = np.mean(data)\n",
    "        self.max = np.max(data)\n",
    "    \n",
    "    def poisson(self,sfs):\n",
    "        points = 1 + (10**sfs)*self.max\n",
    "        lmbd_ci = poisson_confidence_intervals(self.data,[0,self.max],points)\n",
    "        return {'lmbd' : lmbd_ci,\n",
    "                'mean' : lmbd_ci,\n",
    "                'var' : lmbd_ci\n",
    "                      }\n",
    "    \n",
    "    def geometric(self,sfs):\n",
    "        points = 1 + (10**sfs)*self.max\n",
    "        lmbd_ci = geometric_confidence_intervals(self.data,[0,self.max],points)\n",
    "        var_ci = [lmbd_ci[0]*(1+lmbd_ci[0]), lmbd_ci[1]*(1+lmbd_ci[1])]\n",
    "        return {'lmbd' : lmbd_ci,\n",
    "                'mean' : lmbd_ci,\n",
    "                'var' : var_ci\n",
    "                      }\n",
    "    \n",
    "    def zip(self,sfs):\n",
    "        lmbd_points = 1 + (10**sfs)*self.max\n",
    "        sigma_points = 1 + 10**sfs\n",
    "        lmbd_ci, sigma_ci, mean_ci, var_ci = zip_confidence_intervals(self.data,[0,self.max],lmbd_points,sigma_points)\n",
    "        return {'lmbd' : lmbd_ci,\n",
    "                'sigma' : sigma_ci,\n",
    "                'mean' : mean_ci,\n",
    "                'var' : var_ci\n",
    "                      }\n",
    "    \n",
    "    def neg_bin(self,no_samples):\n",
    "        lmbd_ci,lmbd_samples,theta_ci,theta_samples,var_ci,var_samples = neg_bin_bootstrap(self.data,no_samples,self.mean)\n",
    "        return {'lmbd' : lmbd_ci,\n",
    "                'theta' : theta_ci,\n",
    "                'mean' : lmbd_ci,\n",
    "                'var' : var_ci}\n",
    "    \n",
    "    def beta_poisson(self,no_samples):\n",
    "        lmbd_ci,lmbd_samples,Phi_ci,Phi_samples,Nu_ci,Nu_samples,var_ci,var_samples = \\\n",
    "            beta_poisson_bootstrap(self.data,no_samples,1/self.mean,self.max)\n",
    "        return {'lmbd' : lmbd_ci,\n",
    "                'Phi' : Phi_ci,\n",
    "                'Nu' : Nu_ci,\n",
    "                'mean' : lmbd_ci,\n",
    "                'var' : var_ci}"
   ]
  },
  {
   "cell_type": "code",
   "execution_count": null,
   "metadata": {},
   "outputs": [],
   "source": [
    "cis = confidence_intervals(gani_data)\n",
    "gani_poisson_cis = cis.poisson(3)\n",
    "gani_geometric_cis = cis.geometric(3)\n",
    "gani_zip_cis = cis.zip(2)\n",
    "gani_neg_bin_cis = cis.neg_bin(100)\n",
    "gani_beta_poisson_cis = cis.beta_poisson(100)\n",
    "\n",
    "cis = confidence_intervals(jezek_data)\n",
    "jezek_poisson_cis = cis.poisson(3)\n",
    "jezek_geometric_cis = cis.geometric(3)\n",
    "jezek_zip_cis = cis.zip(2)\n",
    "jezek_neg_bin_cis = cis.neg_bin(100)\n",
    "jezek_beta_poisson_cis = cis.beta_poisson(100)\n",
    "\n",
    "cis = confidence_intervals(faye_data)\n",
    "faye_poisson_cis = cis.poisson(3)\n",
    "faye_geometric_cis = cis.geometric(3)\n",
    "faye_zip_cis = cis.zip(2)\n",
    "faye_neg_bin_cis = cis.neg_bin(100)\n",
    "faye_beta_poisson_cis = cis.beta_poisson(100)\n",
    "\n",
    "cis = confidence_intervals(fasina_data)\n",
    "fasina_poisson_cis = cis.poisson(3)\n",
    "fasina_geometric_cis = cis.geometric(3)\n",
    "fasina_zip_cis = cis.zip(2)\n",
    "fasina_neg_bin_cis = cis.neg_bin(100)\n",
    "fasina_beta_poisson_cis = cis.beta_poisson(100)\n",
    "\n",
    "cis = confidence_intervals(leo_data)\n",
    "leo_poisson_cis = cis.poisson(3)\n",
    "leo_geometric_cis = cis.geometric(3)\n",
    "leo_zip_cis = cis.zip(2)\n",
    "leo_neg_bin_cis = cis.neg_bin(100)\n",
    "leo_beta_poisson_cis = cis.beta_poisson(100)\n",
    "\n",
    "cis = confidence_intervals(cowling_data)\n",
    "cowling_poisson_cis = cis.poisson(3)\n",
    "cowling_geometric_cis = cis.geometric(3)\n",
    "cowling_zip_cis = cis.zip(2)\n",
    "cowling_neg_bin_cis = cis.neg_bin(100)\n",
    "cowling_beta_poisson_cis = cis.beta_poisson(100)\n",
    "\n",
    "cis = confidence_intervals(chowell_data)\n",
    "chowell_poisson_cis = cis.poisson(3)\n",
    "chowell_geometric_cis = cis.geometric(3)\n",
    "chowell_zip_cis = cis.zip(2)\n",
    "chowell_neg_bin_cis = cis.neg_bin(100)\n",
    "chowell_beta_poisson_cis = cis.beta_poisson(100)\n",
    "\n",
    "cis = confidence_intervals(heijne_data)\n",
    "heijne_poisson_cis = cis.poisson(3)\n",
    "heijne_geometric_cis = cis.geometric(3)\n",
    "heijne_zip_cis = cis.zip(2)\n",
    "heijne_neg_bin_cis = cis.neg_bin(100)\n",
    "heijne_beta_poisson_cis = cis.beta_poisson(100)"
   ]
  },
  {
   "cell_type": "code",
   "execution_count": null,
   "metadata": {},
   "outputs": [],
   "source": []
  }
 ],
 "metadata": {
  "kernelspec": {
   "display_name": "Python 3",
   "language": "python",
   "name": "python3"
  },
  "language_info": {
   "codemirror_mode": {
    "name": "ipython",
    "version": 3
   },
   "file_extension": ".py",
   "mimetype": "text/x-python",
   "name": "python",
   "nbconvert_exporter": "python",
   "pygments_lexer": "ipython3",
   "version": "3.8.8"
  }
 },
 "nbformat": 4,
 "nbformat_minor": 2
}
